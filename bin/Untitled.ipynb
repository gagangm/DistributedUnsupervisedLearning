{
 "cells": [
  {
   "cell_type": "code",
   "execution_count": 2,
   "metadata": {},
   "outputs": [
    {
     "name": "stdout",
     "output_type": "stream",
     "text": [
      "# ========================================================================================================== #\n",
      "#                                           <<<<[[[[ PATHS ]]]>>>>                                           #\n",
      "# ========================================================================================================== #\n"
     ]
    }
   ],
   "source": [
    "TopBorder = '# ========================================================================================================== #'\n",
    "msg = 'PATHS'\n",
    "# msg = 'DATA SCIENCE'\n",
    "SignAroundCentral = ' '\n",
    "\n",
    "CentralMsg = ' <<<<[[[[ {} ]]]>>>> '.format(msg)\n",
    "TotLen = len(TopBorder)\n",
    "LenCentralString = len(CentralMsg)\n",
    "\n",
    "Dist = 'EqualNoOfEqual' if LenCentralString % 2 == 0 else 'SecondShouldHaveLess'\n",
    "Sign1,Sign2 = ((TotLen - LenCentralString - 4)/2,(TotLen - LenCentralString - 4)/2) if Dist == 'EqualNoOfEqual' else ((TotLen - LenCentralString - 3)/2,(TotLen - LenCentralString - 5)/2)\n",
    "Sign1,Sign2 = int(Sign1), int(Sign2)\n",
    "String = '# '+SignAroundCentral*Sign1 + CentralMsg + SignAroundCentral*Sign2 +' #'\n",
    "\n",
    "# print(TotLen, TotLen/2, LenCentralString, LenCentralString/2, int(LenCentralString/2), Sign1,Sign2)\n",
    "# print(len(String))\n",
    "\n",
    "print(TopBorder + '\\n' + String + '\\n' + TopBorder)"
   ]
  },
  {
   "cell_type": "code",
   "execution_count": null,
   "metadata": {},
   "outputs": [],
   "source": []
  }
 ],
 "metadata": {
  "kernelspec": {
   "display_name": "OfficeProjVirEnv",
   "language": "python",
   "name": "officeprojvirenv"
  },
  "language_info": {
   "codemirror_mode": {
    "name": "ipython",
    "version": 3
   },
   "file_extension": ".py",
   "mimetype": "text/x-python",
   "name": "python",
   "nbconvert_exporter": "python",
   "pygments_lexer": "ipython3",
   "version": "3.6.5"
  }
 },
 "nbformat": 4,
 "nbformat_minor": 2
}
